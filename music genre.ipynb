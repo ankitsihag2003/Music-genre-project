{
 "cells": [
  {
   "cell_type": "code",
   "execution_count": 65,
   "metadata": {
    "scrolled": true
   },
   "outputs": [
    {
     "name": "stdout",
     "output_type": "stream",
     "text": [
      "Requirement already satisfied: librosa in e:\\anaconda3\\envs\\myenv\\lib\\site-packages (0.10.2.post1)\n",
      "Requirement already satisfied: audioread>=2.1.9 in e:\\anaconda3\\envs\\myenv\\lib\\site-packages (from librosa) (3.0.1)\n",
      "Requirement already satisfied: numpy!=1.22.0,!=1.22.1,!=1.22.2,>=1.20.3 in e:\\anaconda3\\envs\\myenv\\lib\\site-packages (from librosa) (2.0.2)\n",
      "Requirement already satisfied: scipy>=1.2.0 in e:\\anaconda3\\envs\\myenv\\lib\\site-packages (from librosa) (1.14.1)\n",
      "Requirement already satisfied: scikit-learn>=0.20.0 in e:\\anaconda3\\envs\\myenv\\lib\\site-packages (from librosa) (1.5.2)\n",
      "Requirement already satisfied: joblib>=0.14 in e:\\anaconda3\\envs\\myenv\\lib\\site-packages (from librosa) (1.4.2)\n",
      "Requirement already satisfied: decorator>=4.3.0 in c:\\users\\ankit\\appdata\\roaming\\python\\python312\\site-packages (from librosa) (5.1.1)\n",
      "Requirement already satisfied: numba>=0.51.0 in e:\\anaconda3\\envs\\myenv\\lib\\site-packages (from librosa) (0.60.0)\n",
      "Requirement already satisfied: soundfile>=0.12.1 in e:\\anaconda3\\envs\\myenv\\lib\\site-packages (from librosa) (0.12.1)\n",
      "Requirement already satisfied: pooch>=1.1 in e:\\anaconda3\\envs\\myenv\\lib\\site-packages (from librosa) (1.8.2)\n",
      "Requirement already satisfied: soxr>=0.3.2 in e:\\anaconda3\\envs\\myenv\\lib\\site-packages (from librosa) (0.5.0.post1)\n",
      "Requirement already satisfied: typing-extensions>=4.1.1 in e:\\anaconda3\\envs\\myenv\\lib\\site-packages (from librosa) (4.12.2)\n",
      "Requirement already satisfied: lazy-loader>=0.1 in e:\\anaconda3\\envs\\myenv\\lib\\site-packages (from librosa) (0.4)\n",
      "Requirement already satisfied: msgpack>=1.0 in e:\\anaconda3\\envs\\myenv\\lib\\site-packages (from librosa) (1.1.0)\n",
      "Requirement already satisfied: packaging in c:\\users\\ankit\\appdata\\roaming\\python\\python312\\site-packages (from lazy-loader>=0.1->librosa) (24.1)\n",
      "Requirement already satisfied: llvmlite<0.44,>=0.43.0dev0 in e:\\anaconda3\\envs\\myenv\\lib\\site-packages (from numba>=0.51.0->librosa) (0.43.0)\n",
      "Requirement already satisfied: platformdirs>=2.5.0 in c:\\users\\ankit\\appdata\\roaming\\python\\python312\\site-packages (from pooch>=1.1->librosa) (4.2.2)\n",
      "Requirement already satisfied: requests>=2.19.0 in e:\\anaconda3\\envs\\myenv\\lib\\site-packages (from pooch>=1.1->librosa) (2.32.3)\n",
      "Requirement already satisfied: threadpoolctl>=3.1.0 in e:\\anaconda3\\envs\\myenv\\lib\\site-packages (from scikit-learn>=0.20.0->librosa) (3.5.0)\n",
      "Requirement already satisfied: cffi>=1.0 in e:\\anaconda3\\envs\\myenv\\lib\\site-packages (from soundfile>=0.12.1->librosa) (1.17.1)\n",
      "Requirement already satisfied: pycparser in e:\\anaconda3\\envs\\myenv\\lib\\site-packages (from cffi>=1.0->soundfile>=0.12.1->librosa) (2.22)\n",
      "Requirement already satisfied: charset-normalizer<4,>=2 in e:\\anaconda3\\envs\\myenv\\lib\\site-packages (from requests>=2.19.0->pooch>=1.1->librosa) (3.4.0)\n",
      "Requirement already satisfied: idna<4,>=2.5 in e:\\anaconda3\\envs\\myenv\\lib\\site-packages (from requests>=2.19.0->pooch>=1.1->librosa) (3.10)\n",
      "Requirement already satisfied: urllib3<3,>=1.21.1 in e:\\anaconda3\\envs\\myenv\\lib\\site-packages (from requests>=2.19.0->pooch>=1.1->librosa) (2.2.3)\n",
      "Requirement already satisfied: certifi>=2017.4.17 in e:\\anaconda3\\envs\\myenv\\lib\\site-packages (from requests>=2.19.0->pooch>=1.1->librosa) (2024.8.30)\n",
      "Note: you may need to restart the kernel to use updated packages.\n"
     ]
    },
    {
     "name": "stderr",
     "output_type": "stream",
     "text": [
      "'DOSKEY' is not recognized as an internal or external command,\n",
      "operable program or batch file.\n"
     ]
    }
   ],
   "source": [
    "pip install librosa"
   ]
  },
  {
   "cell_type": "code",
   "execution_count": 66,
   "metadata": {},
   "outputs": [],
   "source": [
    "import warnings\n",
    "warnings.filterwarnings('ignore')\n",
    "import pandas as pd\n",
    "import numpy as np\n",
    "import librosa\n",
    "import matplotlib.pyplot as plt\n",
    "\n",
    "import os\n",
    "from PIL import Image\n",
    "from pathlib import Path\n",
    "import csv\n",
    "\n",
    "from sklearn.model_selection import train_test_split\n",
    "from sklearn.preprocessing import LabelEncoder, StandardScaler\n",
    "\n",
    "from sklearn.linear_model import LinearRegression\n",
    "from sklearn.svm import SVC\n",
    "from sklearn.ensemble import RandomForestClassifier\n",
    "\n",
    "import tensorflow\n",
    "import librosa.display"
   ]
  },
  {
   "cell_type": "code",
   "execution_count": 67,
   "metadata": {},
   "outputs": [],
   "source": [
    "\n",
    "    ### Let's read a sample audio using librosa\n",
    "import librosa\n",
    "audio_file_path=\"E:\\\\Music genre project\\\\sample.wav\"\n",
    "librosa_audio_data,librosa_sample_rate=librosa.load(audio_file_path)"
   ]
  },
  {
   "cell_type": "code",
   "execution_count": 68,
   "metadata": {},
   "outputs": [
    {
     "name": "stdout",
     "output_type": "stream",
     "text": [
      "[ 1.3373792e-06 -2.0377338e-06  3.6209822e-06 ...  3.8124108e-06\n",
      " -2.9998546e-07  1.7823284e-06]\n"
     ]
    }
   ],
   "source": [
    "print(librosa_audio_data)"
   ]
  },
  {
   "cell_type": "code",
   "execution_count": 69,
   "metadata": {},
   "outputs": [
    {
     "name": "stdout",
     "output_type": "stream",
     "text": [
      "(40, 256)\n"
     ]
    }
   ],
   "source": [
    "mfccs = librosa.feature.mfcc(y=librosa_audio_data, sr=librosa_sample_rate, n_mfcc=40)\n",
    "print(mfccs.shape)"
   ]
  },
  {
   "cell_type": "code",
   "execution_count": 70,
   "metadata": {},
   "outputs": [],
   "source": [
    "a=[]\n",
    "a.append(mfccs)"
   ]
  },
  {
   "cell_type": "code",
   "execution_count": 71,
   "metadata": {},
   "outputs": [
    {
     "data": {
      "text/plain": [
       "<matplotlib.collections.QuadMesh at 0x2a4e265c0b0>"
      ]
     },
     "execution_count": 71,
     "metadata": {},
     "output_type": "execute_result"
    },
    {
     "data": {
      "image/png": "[encoded data removed]",
      "text/plain": [
       "<Figure size 640x480 with 1 Axes>"
      ]
     },
     "metadata": {},
     "output_type": "display_data"
    }
   ],
   "source": [
    "librosa.display.specshow(mfccs, y_axis='linear')"
   ]
  },
  {
   "cell_type": "code",
   "execution_count": 72,
   "metadata": {},
   "outputs": [],
   "source": [
    "dict={'Mfcc':a}"
   ]
  },
  {
   "cell_type": "code",
   "execution_count": 73,
   "metadata": {},
   "outputs": [
    {
     "data": {
      "text/html": [
       "<div>\n",
       "<style scoped>\n",
       "    .dataframe tbody tr th:only-of-type {\n",
       "        vertical-align: middle;\n",
       "    }\n",
       "\n",
       "    .dataframe tbody tr th {\n",
       "        vertical-align: top;\n",
       "    }\n",
       "\n",
       "    .dataframe thead th {\n",
       "        text-align: right;\n",
       "    }\n",
       "</style>\n",
       "<table border=\"1\" class=\"dataframe\">\n",
       "  <thead>\n",
       "    <tr style=\"text-align: right;\">\n",
       "      <th></th>\n",
       "      <th>Mfcc</th>\n",
       "    </tr>\n",
       "  </thead>\n",
       "  <tbody>\n",
       "    <tr>\n",
       "      <th>0</th>\n",
       "      <td>[[-484.34784, -461.7183, -511.9643, -563.55695...</td>\n",
       "    </tr>\n",
       "  </tbody>\n",
       "</table>\n",
       "</div>"
      ],
      "text/plain": [
       "                                                Mfcc\n",
       "0  [[-484.34784, -461.7183, -511.9643, -563.55695..."
      ]
     },
     "execution_count": 73,
     "metadata": {},
     "output_type": "execute_result"
    }
   ],
   "source": [
    "extracted_features_single= pd.DataFrame(dict)\n",
    "extracted_features_single.head()"
   ]
  },
  {
   "cell_type": "code",
   "execution_count": 74,
   "metadata": {},
   "outputs": [
    {
     "data": {
      "text/plain": [
       "(1, 40, 256)"
      ]
     },
     "execution_count": 74,
     "metadata": {},
     "output_type": "execute_result"
    }
   ],
   "source": [
    "single_fea1=np.array(extracted_features_single['Mfcc'].tolist())\n",
    "single_fea1.shape"
   ]
  },
  {
   "cell_type": "code",
   "execution_count": 75,
   "metadata": {},
   "outputs": [],
   "source": [
    "import numpy as np\n",
    "dataset = []\n",
    "cla=[]\n",
    "genres = {'blues': 0, 'classical': 1, 'country': 2, 'disco': 3, 'hiphop': 4, \n",
    "        'jazz': 5, 'metal': 6, 'pop': 7, 'reggae': 8, 'rock': 9}\n",
    "\n",
    "for genre, genre_number in genres.items():\n",
    "    for filename in os.listdir(f'E:\\\\Music genre project\\\\Data\\\\genres_original\\\\{genre}'):\n",
    "        songname = f'E:\\\\Music genre project\\\\Data\\\\genres_original\\\\{genre}\\\\{filename}'\n",
    "        \n",
    "        audio, sr = librosa.load(songname,res_type='kaiser_test')\n",
    "        mfcc_fea = np.mean(librosa.feature.mfcc(y=audio, sr=sr, n_mfcc=40).T,axis=0)\n",
    "        fea_class=genre\n",
    "        dataset.append(mfcc_fea)\n",
    "        cla.append(fea_class)"
   ]
  },
  {
   "cell_type": "code",
   "execution_count": 76,
   "metadata": {},
   "outputs": [],
   "source": [
    "d = {'Features':dataset,'class':cla}"
   ]
  },
  {
   "cell_type": "code",
   "execution_count": 77,
   "metadata": {},
   "outputs": [
    {
     "data": {
      "text/html": [
       "<div>\n",
       "<style scoped>\n",
       "    .dataframe tbody tr th:only-of-type {\n",
       "        vertical-align: middle;\n",
       "    }\n",
       "\n",
       "    .dataframe tbody tr th {\n",
       "        vertical-align: top;\n",
       "    }\n",
       "\n",
       "    .dataframe thead th {\n",
       "        text-align: right;\n",
       "    }\n",
       "</style>\n",
       "<table border=\"1\" class=\"dataframe\">\n",
       "  <thead>\n",
       "    <tr style=\"text-align: right;\">\n",
       "      <th></th>\n",
       "      <th>Features</th>\n",
       "      <th>class</th>\n",
       "    </tr>\n",
       "  </thead>\n",
       "  <tbody>\n",
       "    <tr>\n",
       "      <th>0</th>\n",
       "      <td>[-113.59882, 121.57067, -19.162262, 42.363937,...</td>\n",
       "      <td>blues</td>\n",
       "    </tr>\n",
       "    <tr>\n",
       "      <th>1</th>\n",
       "      <td>[-207.52383, 123.98514, 8.947019, 35.86715, 2....</td>\n",
       "      <td>blues</td>\n",
       "    </tr>\n",
       "    <tr>\n",
       "      <th>2</th>\n",
       "      <td>[-90.757164, 140.44087, -29.084547, 31.686693,...</td>\n",
       "      <td>blues</td>\n",
       "    </tr>\n",
       "    <tr>\n",
       "      <th>3</th>\n",
       "      <td>[-199.57513, 150.0861, 5.663404, 26.855278, 1....</td>\n",
       "      <td>blues</td>\n",
       "    </tr>\n",
       "    <tr>\n",
       "      <th>4</th>\n",
       "      <td>[-160.35417, 126.20948, -35.581394, 22.139256,...</td>\n",
       "      <td>blues</td>\n",
       "    </tr>\n",
       "  </tbody>\n",
       "</table>\n",
       "</div>"
      ],
      "text/plain": [
       "                                            Features  class\n",
       "0  [-113.59882, 121.57067, -19.162262, 42.363937,...  blues\n",
       "1  [-207.52383, 123.98514, 8.947019, 35.86715, 2....  blues\n",
       "2  [-90.757164, 140.44087, -29.084547, 31.686693,...  blues\n",
       "3  [-199.57513, 150.0861, 5.663404, 26.855278, 1....  blues\n",
       "4  [-160.35417, 126.20948, -35.581394, 22.139256,...  blues"
      ]
     },
     "execution_count": 77,
     "metadata": {},
     "output_type": "execute_result"
    }
   ],
   "source": [
    "import pandas as pd\n",
    "extracted_features_df=pd.DataFrame(d)\n",
    "extracted_features_df.head()"
   ]
  },
  {
   "cell_type": "code",
   "execution_count": 78,
   "metadata": {},
   "outputs": [
    {
     "data": {
      "text/plain": [
       "999"
      ]
     },
     "execution_count": 78,
     "metadata": {},
     "output_type": "execute_result"
    }
   ],
   "source": [
    "len(dataset)"
   ]
  },
  {
   "cell_type": "code",
   "execution_count": 79,
   "metadata": {
    "scrolled": true
   },
   "outputs": [],
   "source": [
    "### Split the dataset into independent and dependent dataset\n",
    "X=np.array(dataset)\n",
    "#(extracted_features_df['Features'].tolist())\n",
    "y=np.array(extracted_features_df['class'].tolist())"
   ]
  },
  {
   "cell_type": "code",
   "execution_count": 80,
   "metadata": {},
   "outputs": [
    {
     "data": {
      "text/plain": [
       "(999, 40)"
      ]
     },
     "execution_count": 80,
     "metadata": {},
     "output_type": "execute_result"
    }
   ],
   "source": [
    "X.shape"
   ]
  },
  {
   "cell_type": "code",
   "execution_count": 81,
   "metadata": {},
   "outputs": [
    {
     "data": {
      "text/plain": [
       "array(['blues', 'blues', 'blues', 'blues', 'blues', 'blues', 'blues',\n",
       "       'blues', 'blues', 'blues', 'blues', 'blues', 'blues', 'blues',\n",
       "       'blues', 'blues', 'blues', 'blues', 'blues', 'blues', 'blues',\n",
       "       'blues', 'blues', 'blues', 'blues', 'blues', 'blues', 'blues',\n",
       "       'blues', 'blues', 'blues', 'blues', 'blues', 'blues', 'blues',\n",
       "       'blues', 'blues', 'blues', 'blues', 'blues', 'blues', 'blues',\n",
       "       'blues', 'blues', 'blues', 'blues', 'blues', 'blues', 'blues',\n",
       "       'blues', 'blues', 'blues', 'blues', 'blues', 'blues', 'blues',\n",
       "       'blues', 'blues', 'blues', 'blues', 'blues', 'blues', 'blues',\n",
       "       'blues', 'blues', 'blues', 'blues', 'blues', 'blues', 'blues',\n",
       "       'blues', 'blues', 'blues', 'blues', 'blues', 'blues', 'blues',\n",
       "       'blues', 'blues', 'blues', 'blues', 'blues', 'blues', 'blues',\n",
       "       'blues', 'blues', 'blues', 'blues', 'blues', 'blues', 'blues',\n",
       "       'blues', 'blues', 'blues', 'blues', 'blues', 'blues', 'blues',\n",
       "       'blues', 'blues', 'classical', 'classical', 'classical',\n",
       "       'classical', 'classical', 'classical', 'classical', 'classical',\n",
       "       'classical', 'classical', 'classical', 'classical', 'classical',\n",
       "       'classical', 'classical', 'classical', 'classical', 'classical',\n",
       "       'classical', 'classical', 'classical', 'classical', 'classical',\n",
       "       'classical', 'classical', 'classical', 'classical', 'classical',\n",
       "       'classical', 'classical', 'classical', 'classical', 'classical',\n",
       "       'classical', 'classical', 'classical', 'classical', 'classical',\n",
       "       'classical', 'classical', 'classical', 'classical', 'classical',\n",
       "       'classical', 'classical', 'classical', 'classical', 'classical',\n",
       "       'classical', 'classical', 'classical', 'classical', 'classical',\n",
       "       'classical', 'classical', 'classical', 'classical', 'classical',\n",
       "       'classical', 'classical', 'classical', 'classical', 'classical',\n",
       "       'classical', 'classical', 'classical', 'classical', 'classical',\n",
       "       'classical', 'classical', 'classical', 'classical', 'classical',\n",
       "       'classical', 'classical', 'classical', 'classical', 'classical',\n",
       "       'classical', 'classical', 'classical', 'classical', 'classical',\n",
       "       'classical', 'classical', 'classical', 'classical', 'classical',\n",
       "       'classical', 'classical', 'classical', 'classical', 'classical',\n",
       "       'classical', 'classical', 'classical', 'classical', 'classical',\n",
       "       'classical', 'classical', 'country', 'country', 'country',\n",
       "       'country', 'country', 'country', 'country', 'country', 'country',\n",
       "       'country', 'country', 'country', 'country', 'country', 'country',\n",
       "       'country', 'country', 'country', 'country', 'country', 'country',\n",
       "       'country', 'country', 'country', 'country', 'country', 'country',\n",
       "       'country', 'country', 'country', 'country', 'country', 'country',\n",
       "       'country', 'country', 'country', 'country', 'country', 'country',\n",
       "       'country', 'country', 'country', 'country', 'country', 'country',\n",
       "       'country', 'country', 'country', 'country', 'country', 'country',\n",
       "       'country', 'country', 'country', 'country', 'country', 'country',\n",
       "       'country', 'country', 'country', 'country', 'country', 'country',\n",
       "       'country', 'country', 'country', 'country', 'country', 'country',\n",
       "       'country', 'country', 'country', 'country', 'country', 'country',\n",
       "       'country', 'country', 'country', 'country', 'country', 'country',\n",
       "       'country', 'country', 'country', 'country', 'country', 'country',\n",
       "       'country', 'country', 'country', 'country', 'country', 'country',\n",
       "       'country', 'country', 'country', 'country', 'country', 'country',\n",
       "       'country', 'disco', 'disco', 'disco', 'disco', 'disco', 'disco',\n",
       "       'disco', 'disco', 'disco', 'disco', 'disco', 'disco', 'disco',\n",
       "       'disco', 'disco', 'disco', 'disco', 'disco', 'disco', 'disco',\n",
       "       'disco', 'disco', 'disco', 'disco', 'disco', 'disco', 'disco',\n",
       "       'disco', 'disco', 'disco', 'disco', 'disco', 'disco', 'disco',\n",
       "       'disco', 'disco', 'disco', 'disco', 'disco', 'disco', 'disco',\n",
       "       'disco', 'disco', 'disco', 'disco', 'disco', 'disco', 'disco',\n",
       "       'disco', 'disco', 'disco', 'disco', 'disco', 'disco', 'disco',\n",
       "       'disco', 'disco', 'disco', 'disco', 'disco', 'disco', 'disco',\n",
       "       'disco', 'disco', 'disco', 'disco', 'disco', 'disco', 'disco',\n",
       "       'disco', 'disco', 'disco', 'disco', 'disco', 'disco', 'disco',\n",
       "       'disco', 'disco', 'disco', 'disco', 'disco', 'disco', 'disco',\n",
       "       'disco', 'disco', 'disco', 'disco', 'disco', 'disco', 'disco',\n",
       "       'disco', 'disco', 'disco', 'disco', 'disco', 'disco', 'disco',\n",
       "       'disco', 'disco', 'disco', 'hiphop', 'hiphop', 'hiphop', 'hiphop',\n",
       "       'hiphop', 'hiphop', 'hiphop', 'hiphop', 'hiphop', 'hiphop',\n",
       "       'hiphop', 'hiphop', 'hiphop', 'hiphop', 'hiphop', 'hiphop',\n",
       "       'hiphop', 'hiphop', 'hiphop', 'hiphop', 'hiphop', 'hiphop',\n",
       "       'hiphop', 'hiphop', 'hiphop', 'hiphop', 'hiphop', 'hiphop',\n",
       "       'hiphop', 'hiphop', 'hiphop', 'hiphop', 'hiphop', 'hiphop',\n",
       "       'hiphop', 'hiphop', 'hiphop', 'hiphop', 'hiphop', 'hiphop',\n",
       "       'hiphop', 'hiphop', 'hiphop', 'hiphop', 'hiphop', 'hiphop',\n",
       "       'hiphop', 'hiphop', 'hiphop', 'hiphop', 'hiphop', 'hiphop',\n",
       "       'hiphop', 'hiphop', 'hiphop', 'hiphop', 'hiphop', 'hiphop',\n",
       "       'hiphop', 'hiphop', 'hiphop', 'hiphop', 'hiphop', 'hiphop',\n",
       "       'hiphop', 'hiphop', 'hiphop', 'hiphop', 'hiphop', 'hiphop',\n",
       "       'hiphop', 'hiphop', 'hiphop', 'hiphop', 'hiphop', 'hiphop',\n",
       "       'hiphop', 'hiphop', 'hiphop', 'hiphop', 'hiphop', 'hiphop',\n",
       "       'hiphop', 'hiphop', 'hiphop', 'hiphop', 'hiphop', 'hiphop',\n",
       "       'hiphop', 'hiphop', 'hiphop', 'hiphop', 'hiphop', 'hiphop',\n",
       "       'hiphop', 'hiphop', 'hiphop', 'hiphop', 'hiphop', 'hiphop', 'jazz',\n",
       "       'jazz', 'jazz', 'jazz', 'jazz', 'jazz', 'jazz', 'jazz', 'jazz',\n",
       "       'jazz', 'jazz', 'jazz', 'jazz', 'jazz', 'jazz', 'jazz', 'jazz',\n",
       "       'jazz', 'jazz', 'jazz', 'jazz', 'jazz', 'jazz', 'jazz', 'jazz',\n",
       "       'jazz', 'jazz', 'jazz', 'jazz', 'jazz', 'jazz', 'jazz', 'jazz',\n",
       "       'jazz', 'jazz', 'jazz', 'jazz', 'jazz', 'jazz', 'jazz', 'jazz',\n",
       "       'jazz', 'jazz', 'jazz', 'jazz', 'jazz', 'jazz', 'jazz', 'jazz',\n",
       "       'jazz', 'jazz', 'jazz', 'jazz', 'jazz', 'jazz', 'jazz', 'jazz',\n",
       "       'jazz', 'jazz', 'jazz', 'jazz', 'jazz', 'jazz', 'jazz', 'jazz',\n",
       "       'jazz', 'jazz', 'jazz', 'jazz', 'jazz', 'jazz', 'jazz', 'jazz',\n",
       "       'jazz', 'jazz', 'jazz', 'jazz', 'jazz', 'jazz', 'jazz', 'jazz',\n",
       "       'jazz', 'jazz', 'jazz', 'jazz', 'jazz', 'jazz', 'jazz', 'jazz',\n",
       "       'jazz', 'jazz', 'jazz', 'jazz', 'jazz', 'jazz', 'jazz', 'jazz',\n",
       "       'jazz', 'jazz', 'metal', 'metal', 'metal', 'metal', 'metal',\n",
       "       'metal', 'metal', 'metal', 'metal', 'metal', 'metal', 'metal',\n",
       "       'metal', 'metal', 'metal', 'metal', 'metal', 'metal', 'metal',\n",
       "       'metal', 'metal', 'metal', 'metal', 'metal', 'metal', 'metal',\n",
       "       'metal', 'metal', 'metal', 'metal', 'metal', 'metal', 'metal',\n",
       "       'metal', 'metal', 'metal', 'metal', 'metal', 'metal', 'metal',\n",
       "       'metal', 'metal', 'metal', 'metal', 'metal', 'metal', 'metal',\n",
       "       'metal', 'metal', 'metal', 'metal', 'metal', 'metal', 'metal',\n",
       "       'metal', 'metal', 'metal', 'metal', 'metal', 'metal', 'metal',\n",
       "       'metal', 'metal', 'metal', 'metal', 'metal', 'metal', 'metal',\n",
       "       'metal', 'metal', 'metal', 'metal', 'metal', 'metal', 'metal',\n",
       "       'metal', 'metal', 'metal', 'metal', 'metal', 'metal', 'metal',\n",
       "       'metal', 'metal', 'metal', 'metal', 'metal', 'metal', 'metal',\n",
       "       'metal', 'metal', 'metal', 'metal', 'metal', 'metal', 'metal',\n",
       "       'metal', 'metal', 'metal', 'metal', 'pop', 'pop', 'pop', 'pop',\n",
       "       'pop', 'pop', 'pop', 'pop', 'pop', 'pop', 'pop', 'pop', 'pop',\n",
       "       'pop', 'pop', 'pop', 'pop', 'pop', 'pop', 'pop', 'pop', 'pop',\n",
       "       'pop', 'pop', 'pop', 'pop', 'pop', 'pop', 'pop', 'pop', 'pop',\n",
       "       'pop', 'pop', 'pop', 'pop', 'pop', 'pop', 'pop', 'pop', 'pop',\n",
       "       'pop', 'pop', 'pop', 'pop', 'pop', 'pop', 'pop', 'pop', 'pop',\n",
       "       'pop', 'pop', 'pop', 'pop', 'pop', 'pop', 'pop', 'pop', 'pop',\n",
       "       'pop', 'pop', 'pop', 'pop', 'pop', 'pop', 'pop', 'pop', 'pop',\n",
       "       'pop', 'pop', 'pop', 'pop', 'pop', 'pop', 'pop', 'pop', 'pop',\n",
       "       'pop', 'pop', 'pop', 'pop', 'pop', 'pop', 'pop', 'pop', 'pop',\n",
       "       'pop', 'pop', 'pop', 'pop', 'pop', 'pop', 'pop', 'pop', 'pop',\n",
       "       'pop', 'pop', 'pop', 'pop', 'pop', 'pop', 'reggae', 'reggae',\n",
       "       'reggae', 'reggae', 'reggae', 'reggae', 'reggae', 'reggae',\n",
       "       'reggae', 'reggae', 'reggae', 'reggae', 'reggae', 'reggae',\n",
       "       'reggae', 'reggae', 'reggae', 'reggae', 'reggae', 'reggae',\n",
       "       'reggae', 'reggae', 'reggae', 'reggae', 'reggae', 'reggae',\n",
       "       'reggae', 'reggae', 'reggae', 'reggae', 'reggae', 'reggae',\n",
       "       'reggae', 'reggae', 'reggae', 'reggae', 'reggae', 'reggae',\n",
       "       'reggae', 'reggae', 'reggae', 'reggae', 'reggae', 'reggae',\n",
       "       'reggae', 'reggae', 'reggae', 'reggae', 'reggae', 'reggae',\n",
       "       'reggae', 'reggae', 'reggae', 'reggae', 'reggae', 'reggae',\n",
       "       'reggae', 'reggae', 'reggae', 'reggae', 'reggae', 'reggae',\n",
       "       'reggae', 'reggae', 'reggae', 'reggae', 'reggae', 'reggae',\n",
       "       'reggae', 'reggae', 'reggae', 'reggae', 'reggae', 'reggae',\n",
       "       'reggae', 'reggae', 'reggae', 'reggae', 'reggae', 'reggae',\n",
       "       'reggae', 'reggae', 'reggae', 'reggae', 'reggae', 'reggae',\n",
       "       'reggae', 'reggae', 'reggae', 'reggae', 'reggae', 'reggae',\n",
       "       'reggae', 'reggae', 'reggae', 'reggae', 'reggae', 'reggae',\n",
       "       'reggae', 'reggae', 'rock', 'rock', 'rock', 'rock', 'rock', 'rock',\n",
       "       'rock', 'rock', 'rock', 'rock', 'rock', 'rock', 'rock', 'rock',\n",
       "       'rock', 'rock', 'rock', 'rock', 'rock', 'rock', 'rock', 'rock',\n",
       "       'rock', 'rock', 'rock', 'rock', 'rock', 'rock', 'rock', 'rock',\n",
       "       'rock', 'rock', 'rock', 'rock', 'rock', 'rock', 'rock', 'rock',\n",
       "       'rock', 'rock', 'rock', 'rock', 'rock', 'rock', 'rock', 'rock',\n",
       "       'rock', 'rock', 'rock', 'rock', 'rock', 'rock', 'rock', 'rock',\n",
       "       'rock', 'rock', 'rock', 'rock', 'rock', 'rock', 'rock', 'rock',\n",
       "       'rock', 'rock', 'rock', 'rock', 'rock', 'rock', 'rock', 'rock',\n",
       "       'rock', 'rock', 'rock', 'rock', 'rock', 'rock', 'rock', 'rock',\n",
       "       'rock', 'rock', 'rock', 'rock', 'rock', 'rock', 'rock', 'rock',\n",
       "       'rock', 'rock', 'rock', 'rock', 'rock', 'rock', 'rock', 'rock',\n",
       "       'rock', 'rock', 'rock', 'rock', 'rock', 'rock'], dtype='<U9')"
      ]
     },
     "execution_count": 81,
     "metadata": {},
     "output_type": "execute_result"
    }
   ],
   "source": [
    "y"
   ]
  },
  {
   "cell_type": "code",
   "execution_count": 82,
   "metadata": {},
   "outputs": [],
   "source": [
    "### Label Encoding\n",
    "###y=np.array(pd.get_dummies(y))\n",
    "### Label Encoder\n",
    "from tensorflow.keras.utils import to_categorical\n",
    "from sklearn.preprocessing import LabelEncoder\n",
    "labelencoder=LabelEncoder()\n",
    "y=to_categorical(labelencoder.fit_transform(y))"
   ]
  },
  {
   "cell_type": "code",
   "execution_count": 83,
   "metadata": {},
   "outputs": [
    {
     "data": {
      "text/plain": [
       "array([[1., 0., 0., ..., 0., 0., 0.],\n",
       "       [1., 0., 0., ..., 0., 0., 0.],\n",
       "       [1., 0., 0., ..., 0., 0., 0.],\n",
       "       ...,\n",
       "       [0., 0., 0., ..., 0., 0., 1.],\n",
       "       [0., 0., 0., ..., 0., 0., 1.],\n",
       "       [0., 0., 0., ..., 0., 0., 1.]])"
      ]
     },
     "execution_count": 83,
     "metadata": {},
     "output_type": "execute_result"
    }
   ],
   "source": [
    "y"
   ]
  },
  {
   "cell_type": "code",
   "execution_count": 84,
   "metadata": {},
   "outputs": [],
   "source": [
    "### Train Test Split\n",
    "from sklearn.model_selection import train_test_split\n",
    "X_train,X_test,y_train,y_test=train_test_split(X,y,test_size=0.2,random_state=0)"
   ]
  },
  {
   "cell_type": "code",
   "execution_count": 85,
   "metadata": {},
   "outputs": [
    {
     "data": {
      "text/plain": [
       "array([[ 2.6653410e+01,  7.9789711e+01, -5.2055866e+01, ...,\n",
       "        -1.4430333e+00, -1.2734197e+00, -5.9081397e+00],\n",
       "       [-1.4495711e+02,  1.1846496e+02,  2.0525068e+01, ...,\n",
       "         1.8998559e+00, -1.8821739e+00, -1.8517891e+00],\n",
       "       [-6.6108925e+01,  9.7883812e+01, -1.8831675e+01, ...,\n",
       "        -1.2424636e+00, -6.3691193e-01, -1.3383397e+00],\n",
       "       ...,\n",
       "       [-7.7426697e+01,  1.3087869e+02, -2.3275221e+01, ...,\n",
       "        -4.2062173e+00, -3.5183537e+00,  2.6050334e+00],\n",
       "       [-1.9040649e+02,  1.2951292e+02, -7.8296256e+00, ...,\n",
       "        -2.2419319e+00, -3.9879441e+00, -1.9877435e+00],\n",
       "       [-4.6609550e+01,  8.6802010e+01, -3.4776669e+01, ...,\n",
       "         1.4675996e-01,  9.2151558e-01, -8.7239450e-01]], dtype=float32)"
      ]
     },
     "execution_count": 85,
     "metadata": {},
     "output_type": "execute_result"
    }
   ],
   "source": [
    "X_train"
   ]
  },
  {
   "cell_type": "code",
   "execution_count": 86,
   "metadata": {},
   "outputs": [
    {
     "data": {
      "text/plain": [
       "(799, 40)"
      ]
     },
     "execution_count": 86,
     "metadata": {},
     "output_type": "execute_result"
    }
   ],
   "source": [
    "X_train.shape"
   ]
  },
  {
   "cell_type": "code",
   "execution_count": 87,
   "metadata": {},
   "outputs": [
    {
     "data": {
      "text/plain": [
       "(200, 40)"
      ]
     },
     "execution_count": 87,
     "metadata": {},
     "output_type": "execute_result"
    }
   ],
   "source": [
    "X_test.shape"
   ]
  },
  {
   "cell_type": "code",
   "execution_count": 88,
   "metadata": {},
   "outputs": [
    {
     "data": {
      "text/plain": [
       "(799, 10)"
      ]
     },
     "execution_count": 88,
     "metadata": {},
     "output_type": "execute_result"
    }
   ],
   "source": [
    "y_train.shape"
   ]
  },
  {
   "cell_type": "code",
   "execution_count": 89,
   "metadata": {},
   "outputs": [
    {
     "data": {
      "text/plain": [
       "(200, 10)"
      ]
     },
     "execution_count": 89,
     "metadata": {},
     "output_type": "execute_result"
    }
   ],
   "source": [
    "y_test.shape"
   ]
  },
  {
   "cell_type": "code",
   "execution_count": 90,
   "metadata": {},
   "outputs": [],
   "source": [
    "X_train=np.reshape(X_train,(X_train.shape[0],10,4,1))\n",
    "X_test=np.reshape(X_test,(X_test.shape[0],10,4,1))"
   ]
  },
  {
   "cell_type": "code",
   "execution_count": 91,
   "metadata": {},
   "outputs": [],
   "source": [
    "from tensorflow.keras.models import Sequential\n",
    "from tensorflow.keras.layers import Dense,Dropout,Activation,Flatten\n",
    "from tensorflow.keras.optimizers import Adam\n",
    "from sklearn import metrics"
   ]
  },
  {
   "cell_type": "code",
   "execution_count": 92,
   "metadata": {},
   "outputs": [],
   "source": [
    "import tensorflow.keras.layers as layers\n",
    "import IPython.display as ipd"
   ]
  },
  {
   "cell_type": "code",
   "execution_count": 93,
   "metadata": {},
   "outputs": [],
   "source": [
    "INPUTSHAPE = (10,4,1)"
   ]
  },
  {
   "cell_type": "code",
   "execution_count": 94,
   "metadata": {},
   "outputs": [
    {
     "data": {
      "text/html": [
       "<pre style=\"white-space:pre;overflow-x:auto;line-height:normal;font-family:Menlo,'DejaVu Sans Mono',consolas,'Courier New',monospace\"><span style=\"font-weight: bold\">Model: \"sequential_5\"</span>\n",
       "</pre>\n"
      ],
      "text/plain": [
       "\u001b[1mModel: \"sequential_5\"\u001b[0m\n"
      ]
     },
     "metadata": {},
     "output_type": "display_data"
    },
    {
     "data": {
      "text/html": [
       "<pre style=\"white-space:pre;overflow-x:auto;line-height:normal;font-family:Menlo,'DejaVu Sans Mono',consolas,'Courier New',monospace\">┏━━━━━━━━━━━━━━━━━━━━━━━━━━━━━━━━━┳━━━━━━━━━━━━━━━━━━━━━━━━┳━━━━━━━━━━━━━━━┓\n",
       "┃<span style=\"font-weight: bold\"> Layer (type)                    </span>┃<span style=\"font-weight: bold\"> Output Shape           </span>┃<span style=\"font-weight: bold\">       Param # </span>┃\n",
       "┡━━━━━━━━━━━━━━━━━━━━━━━━━━━━━━━━━╇━━━━━━━━━━━━━━━━━━━━━━━━╇━━━━━━━━━━━━━━━┩\n",
       "│ conv2d_3 (<span style=\"color: #0087ff; text-decoration-color: #0087ff\">Conv2D</span>)               │ (<span style=\"color: #00d7ff; text-decoration-color: #00d7ff\">None</span>, <span style=\"color: #00af00; text-decoration-color: #00af00\">8</span>, <span style=\"color: #00af00; text-decoration-color: #00af00\">2</span>, <span style=\"color: #00af00; text-decoration-color: #00af00\">32</span>)       │           <span style=\"color: #00af00; text-decoration-color: #00af00\">320</span> │\n",
       "├─────────────────────────────────┼────────────────────────┼───────────────┤\n",
       "│ max_pooling2d_3 (<span style=\"color: #0087ff; text-decoration-color: #0087ff\">MaxPooling2D</span>)  │ (<span style=\"color: #00d7ff; text-decoration-color: #00d7ff\">None</span>, <span style=\"color: #00af00; text-decoration-color: #00af00\">4</span>, <span style=\"color: #00af00; text-decoration-color: #00af00\">1</span>, <span style=\"color: #00af00; text-decoration-color: #00af00\">32</span>)       │             <span style=\"color: #00af00; text-decoration-color: #00af00\">0</span> │\n",
       "├─────────────────────────────────┼────────────────────────┼───────────────┤\n",
       "│ flatten_3 (<span style=\"color: #0087ff; text-decoration-color: #0087ff\">Flatten</span>)             │ (<span style=\"color: #00d7ff; text-decoration-color: #00d7ff\">None</span>, <span style=\"color: #00af00; text-decoration-color: #00af00\">128</span>)            │             <span style=\"color: #00af00; text-decoration-color: #00af00\">0</span> │\n",
       "├─────────────────────────────────┼────────────────────────┼───────────────┤\n",
       "│ dense_16 (<span style=\"color: #0087ff; text-decoration-color: #0087ff\">Dense</span>)                │ (<span style=\"color: #00d7ff; text-decoration-color: #00d7ff\">None</span>, <span style=\"color: #00af00; text-decoration-color: #00af00\">512</span>)            │        <span style=\"color: #00af00; text-decoration-color: #00af00\">66,048</span> │\n",
       "├─────────────────────────────────┼────────────────────────┼───────────────┤\n",
       "│ dense_17 (<span style=\"color: #0087ff; text-decoration-color: #0087ff\">Dense</span>)                │ (<span style=\"color: #00d7ff; text-decoration-color: #00d7ff\">None</span>, <span style=\"color: #00af00; text-decoration-color: #00af00\">10</span>)             │         <span style=\"color: #00af00; text-decoration-color: #00af00\">5,130</span> │\n",
       "└─────────────────────────────────┴────────────────────────┴───────────────┘\n",
       "</pre>\n"
      ],
      "text/plain": [
       "┏━━━━━━━━━━━━━━━━━━━━━━━━━━━━━━━━━┳━━━━━━━━━━━━━━━━━━━━━━━━┳━━━━━━━━━━━━━━━┓\n",
       "┃\u001b[1m \u001b[0m\u001b[1mLayer (type)                   \u001b[0m\u001b[1m \u001b[0m┃\u001b[1m \u001b[0m\u001b[1mOutput Shape          \u001b[0m\u001b[1m \u001b[0m┃\u001b[1m \u001b[0m\u001b[1m      Param #\u001b[0m\u001b[1m \u001b[0m┃\n",
       "┡━━━━━━━━━━━━━━━━━━━━━━━━━━━━━━━━━╇━━━━━━━━━━━━━━━━━━━━━━━━╇━━━━━━━━━━━━━━━┩\n",
       "│ conv2d_3 (\u001b[38;5;33mConv2D\u001b[0m)               │ (\u001b[38;5;45mNone\u001b[0m, \u001b[38;5;34m8\u001b[0m, \u001b[38;5;34m2\u001b[0m, \u001b[38;5;34m32\u001b[0m)       │           \u001b[38;5;34m320\u001b[0m │\n",
       "├─────────────────────────────────┼────────────────────────┼───────────────┤\n",
       "│ max_pooling2d_3 (\u001b[38;5;33mMaxPooling2D\u001b[0m)  │ (\u001b[38;5;45mNone\u001b[0m, \u001b[38;5;34m4\u001b[0m, \u001b[38;5;34m1\u001b[0m, \u001b[38;5;34m32\u001b[0m)       │             \u001b[38;5;34m0\u001b[0m │\n",
       "├─────────────────────────────────┼────────────────────────┼───────────────┤\n",
       "│ flatten_3 (\u001b[38;5;33mFlatten\u001b[0m)             │ (\u001b[38;5;45mNone\u001b[0m, \u001b[38;5;34m128\u001b[0m)            │             \u001b[38;5;34m0\u001b[0m │\n",
       "├─────────────────────────────────┼────────────────────────┼───────────────┤\n",
       "│ dense_16 (\u001b[38;5;33mDense\u001b[0m)                │ (\u001b[38;5;45mNone\u001b[0m, \u001b[38;5;34m512\u001b[0m)            │        \u001b[38;5;34m66,048\u001b[0m │\n",
       "├─────────────────────────────────┼────────────────────────┼───────────────┤\n",
       "│ dense_17 (\u001b[38;5;33mDense\u001b[0m)                │ (\u001b[38;5;45mNone\u001b[0m, \u001b[38;5;34m10\u001b[0m)             │         \u001b[38;5;34m5,130\u001b[0m │\n",
       "└─────────────────────────────────┴────────────────────────┴───────────────┘\n"
      ]
     },
     "metadata": {},
     "output_type": "display_data"
    },
    {
     "data": {
      "text/html": [
       "<pre style=\"white-space:pre;overflow-x:auto;line-height:normal;font-family:Menlo,'DejaVu Sans Mono',consolas,'Courier New',monospace\"><span style=\"font-weight: bold\"> Total params: </span><span style=\"color: #00af00; text-decoration-color: #00af00\">71,498</span> (279.29 KB)\n",
       "</pre>\n"
      ],
      "text/plain": [
       "\u001b[1m Total params: \u001b[0m\u001b[38;5;34m71,498\u001b[0m (279.29 KB)\n"
      ]
     },
     "metadata": {},
     "output_type": "display_data"
    },
    {
     "data": {
      "text/html": [
       "<pre style=\"white-space:pre;overflow-x:auto;line-height:normal;font-family:Menlo,'DejaVu Sans Mono',consolas,'Courier New',monospace\"><span style=\"font-weight: bold\"> Trainable params: </span><span style=\"color: #00af00; text-decoration-color: #00af00\">71,498</span> (279.29 KB)\n",
       "</pre>\n"
      ],
      "text/plain": [
       "\u001b[1m Trainable params: \u001b[0m\u001b[38;5;34m71,498\u001b[0m (279.29 KB)\n"
      ]
     },
     "metadata": {},
     "output_type": "display_data"
    },
    {
     "data": {
      "text/html": [
       "<pre style=\"white-space:pre;overflow-x:auto;line-height:normal;font-family:Menlo,'DejaVu Sans Mono',consolas,'Courier New',monospace\"><span style=\"font-weight: bold\"> Non-trainable params: </span><span style=\"color: #00af00; text-decoration-color: #00af00\">0</span> (0.00 B)\n",
       "</pre>\n"
      ],
      "text/plain": [
       "\u001b[1m Non-trainable params: \u001b[0m\u001b[38;5;34m0\u001b[0m (0.00 B)\n"
      ]
     },
     "metadata": {},
     "output_type": "display_data"
    }
   ],
   "source": [
    "model = Sequential([\n",
    "    \n",
    "                          layers.Conv2D(32 , (3,3),activation = 'relu',padding='valid', input_shape = INPUTSHAPE),  \n",
    "                          layers.MaxPooling2D(2, padding='same'),\n",
    "                          #layers.Conv2D(128, (3,3), activation='relu',padding='valid'),\n",
    "                          #layers.MaxPooling2D(2, padding='same'),\n",
    "                          #layers.Dropout(0.3),\n",
    "                          #layers.Conv2D(128, (3,3), activation='relu',padding='valid'),\n",
    "                          #layers.MaxPooling2D(2, padding='same'),\n",
    "                          #layers.Dropout(0.3),\n",
    "                          #layers.GlobalAveragePooling2D(),\n",
    "                          layers.Flatten(),\n",
    "                          layers.Dense(512 , activation = 'relu'),\n",
    "                          layers.Dense(10 , activation = 'softmax')\n",
    "])\n",
    "\n",
    "model.compile(loss = 'categorical_crossentropy', optimizer = 'adam', metrics = ['acc'])\n",
    "model.summary()"
   ]
  },
  {
   "cell_type": "code",
   "execution_count": 95,
   "metadata": {},
   "outputs": [],
   "source": [
    "import tensorflow as tf"
   ]
  },
  {
   "cell_type": "code",
   "execution_count": 96,
   "metadata": {},
   "outputs": [
    {
     "name": "stdout",
     "output_type": "stream",
     "text": [
      "Epoch 1/40\n",
      "\u001b[1m100/100\u001b[0m \u001b[32m━━━━━━━━━━━━━━━━━━━━\u001b[0m\u001b[37m\u001b[0m \u001b[1m1s\u001b[0m 3ms/step - acc: 0.2430 - loss: 2.7342 - val_acc: 0.3400 - val_loss: 1.7176\n",
      "Epoch 2/40\n",
      "\u001b[1m100/100\u001b[0m \u001b[32m━━━━━━━━━━━━━━━━━━━━\u001b[0m\u001b[37m\u001b[0m \u001b[1m0s\u001b[0m 2ms/step - acc: 0.4632 - loss: 1.5852 - val_acc: 0.4250 - val_loss: 1.5622\n",
      "Epoch 3/40\n",
      "\u001b[1m100/100\u001b[0m \u001b[32m━━━━━━━━━━━━━━━━━━━━\u001b[0m\u001b[37m\u001b[0m \u001b[1m0s\u001b[0m 2ms/step - acc: 0.5392 - loss: 1.2914 - val_acc: 0.5100 - val_loss: 1.4625\n",
      "Epoch 4/40\n",
      "\u001b[1m100/100\u001b[0m \u001b[32m━━━━━━━━━━━━━━━━━━━━\u001b[0m\u001b[37m\u001b[0m \u001b[1m0s\u001b[0m 2ms/step - acc: 0.5577 - loss: 1.2137 - val_acc: 0.5500 - val_loss: 1.2592\n",
      "Epoch 5/40\n",
      "\u001b[1m100/100\u001b[0m \u001b[32m━━━━━━━━━━━━━━━━━━━━\u001b[0m\u001b[37m\u001b[0m \u001b[1m0s\u001b[0m 2ms/step - acc: 0.6587 - loss: 1.0327 - val_acc: 0.5700 - val_loss: 1.2224\n",
      "Epoch 6/40\n",
      "\u001b[1m100/100\u001b[0m \u001b[32m━━━━━━━━━━━━━━━━━━━━\u001b[0m\u001b[37m\u001b[0m \u001b[1m0s\u001b[0m 2ms/step - acc: 0.7329 - loss: 0.8112 - val_acc: 0.5500 - val_loss: 1.2062\n",
      "Epoch 7/40\n",
      "\u001b[1m100/100\u001b[0m \u001b[32m━━━━━━━━━━━━━━━━━━━━\u001b[0m\u001b[37m\u001b[0m \u001b[1m0s\u001b[0m 2ms/step - acc: 0.7281 - loss: 0.8126 - val_acc: 0.5650 - val_loss: 1.1565\n",
      "Epoch 8/40\n",
      "\u001b[1m100/100\u001b[0m \u001b[32m━━━━━━━━━━━━━━━━━━━━\u001b[0m\u001b[37m\u001b[0m \u001b[1m0s\u001b[0m 2ms/step - acc: 0.7290 - loss: 0.7796 - val_acc: 0.5700 - val_loss: 1.2266\n",
      "Epoch 9/40\n",
      "\u001b[1m100/100\u001b[0m \u001b[32m━━━━━━━━━━━━━━━━━━━━\u001b[0m\u001b[37m\u001b[0m \u001b[1m0s\u001b[0m 2ms/step - acc: 0.7537 - loss: 0.7014 - val_acc: 0.5900 - val_loss: 1.1807\n",
      "Epoch 10/40\n",
      "\u001b[1m100/100\u001b[0m \u001b[32m━━━━━━━━━━━━━━━━━━━━\u001b[0m\u001b[37m\u001b[0m \u001b[1m0s\u001b[0m 2ms/step - acc: 0.7637 - loss: 0.6481 - val_acc: 0.5450 - val_loss: 1.3995\n",
      "Epoch 11/40\n",
      "\u001b[1m100/100\u001b[0m \u001b[32m━━━━━━━━━━━━━━━━━━━━\u001b[0m\u001b[37m\u001b[0m \u001b[1m0s\u001b[0m 2ms/step - acc: 0.7801 - loss: 0.6536 - val_acc: 0.5600 - val_loss: 1.2777\n",
      "Epoch 12/40\n",
      "\u001b[1m100/100\u001b[0m \u001b[32m━━━━━━━━━━━━━━━━━━━━\u001b[0m\u001b[37m\u001b[0m \u001b[1m0s\u001b[0m 2ms/step - acc: 0.8046 - loss: 0.5953 - val_acc: 0.6450 - val_loss: 1.0845\n",
      "Epoch 13/40\n",
      "\u001b[1m100/100\u001b[0m \u001b[32m━━━━━━━━━━━━━━━━━━━━\u001b[0m\u001b[37m\u001b[0m \u001b[1m0s\u001b[0m 2ms/step - acc: 0.8523 - loss: 0.4201 - val_acc: 0.6350 - val_loss: 1.1860\n",
      "Epoch 14/40\n",
      "\u001b[1m100/100\u001b[0m \u001b[32m━━━━━━━━━━━━━━━━━━━━\u001b[0m\u001b[37m\u001b[0m \u001b[1m0s\u001b[0m 2ms/step - acc: 0.8309 - loss: 0.4606 - val_acc: 0.6150 - val_loss: 1.2450\n",
      "Epoch 15/40\n",
      "\u001b[1m100/100\u001b[0m \u001b[32m━━━━━━━━━━━━━━━━━━━━\u001b[0m\u001b[37m\u001b[0m \u001b[1m0s\u001b[0m 2ms/step - acc: 0.8962 - loss: 0.3564 - val_acc: 0.6150 - val_loss: 1.1677\n",
      "Epoch 16/40\n",
      "\u001b[1m100/100\u001b[0m \u001b[32m━━━━━━━━━━━━━━━━━━━━\u001b[0m\u001b[37m\u001b[0m \u001b[1m0s\u001b[0m 2ms/step - acc: 0.8800 - loss: 0.3700 - val_acc: 0.6350 - val_loss: 1.2441\n",
      "Epoch 17/40\n",
      "\u001b[1m100/100\u001b[0m \u001b[32m━━━━━━━━━━━━━━━━━━━━\u001b[0m\u001b[37m\u001b[0m \u001b[1m0s\u001b[0m 2ms/step - acc: 0.9023 - loss: 0.3148 - val_acc: 0.6200 - val_loss: 1.3652\n",
      "Epoch 18/40\n",
      "\u001b[1m100/100\u001b[0m \u001b[32m━━━━━━━━━━━━━━━━━━━━\u001b[0m\u001b[37m\u001b[0m \u001b[1m0s\u001b[0m 2ms/step - acc: 0.8990 - loss: 0.3301 - val_acc: 0.6600 - val_loss: 1.3076\n",
      "Epoch 19/40\n",
      "\u001b[1m100/100\u001b[0m \u001b[32m━━━━━━━━━━━━━━━━━━━━\u001b[0m\u001b[37m\u001b[0m \u001b[1m0s\u001b[0m 2ms/step - acc: 0.9132 - loss: 0.2831 - val_acc: 0.6600 - val_loss: 1.2566\n",
      "Epoch 20/40\n",
      "\u001b[1m100/100\u001b[0m \u001b[32m━━━━━━━━━━━━━━━━━━━━\u001b[0m\u001b[37m\u001b[0m \u001b[1m0s\u001b[0m 2ms/step - acc: 0.9467 - loss: 0.1973 - val_acc: 0.6750 - val_loss: 1.2787\n"
     ]
    }
   ],
   "source": [
    "batch_size = 8\n",
    "callback = tf.keras.callbacks.EarlyStopping(\n",
    "    monitor='val_loss', min_delta=0, patience=8, verbose=0, mode='auto',\n",
    "    baseline=None, restore_best_weights=False)\n",
    "#checkpointer = ModelCheckpoint(filepath='saved_models/audio_classification.hdf5', \n",
    "                             # verbose=1, save_best_only=True)\n",
    "history = model.fit(X_train,y_train ,validation_data=(X_test,y_test),\n",
    "            epochs=40,\n",
    "            callbacks = [callback],batch_size=batch_size)"
   ]
  },
  {
   "cell_type": "code",
   "execution_count": 102,
   "metadata": {},
   "outputs": [
    {
     "data": {
      "image/png": "[encoded data removed]",
      "text/plain": [
       "<Figure size 640x480 with 1 Axes>"
      ]
     },
     "metadata": {},
     "output_type": "display_data"
    },
    {
     "data": {
      "image/png": "[encoded data removed]",
      "text/plain": [
       "<Figure size 640x480 with 1 Axes>"
      ]
     },
     "metadata": {},
     "output_type": "display_data"
    }
   ],
   "source": [
    "import matplotlib.pyplot as plt\n",
    "plt.plot(history.history['acc'])\n",
    "plt.plot(history.history['val_acc'])\n",
    "plt.title('model accuracy')\n",
    "plt.ylabel('accuracy')\n",
    "plt.xlabel('epoch')\n",
    "plt.legend(['train', 'validation'], loc='upper left')\n",
    "plt.show()\n",
    "\n",
    "\n",
    "plt.plot(history.history['loss'])\n",
    "plt.plot(history.history['val_loss'])\n",
    "plt.title('model loss')\n",
    "plt.ylabel('loss')\n",
    "plt.xlabel('epoch')\n",
    "plt.legend(['train', 'validation'], loc='upper left')\n",
    "plt.show()"
   ]
  },
  {
   "cell_type": "code",
   "execution_count": 104,
   "metadata": {},
   "outputs": [
    {
     "name": "stdout",
     "output_type": "stream",
     "text": [
      "0.675000011920929\n"
     ]
    }
   ],
   "source": [
    "test_accuracy=model.evaluate(X_test,y_test,verbose=0)\n",
    "print(test_accuracy[1])"
   ]
  },
  {
   "cell_type": "code",
   "execution_count": 99,
   "metadata": {},
   "outputs": [],
   "source": [
    "%matplotlib inline\n",
    "from sklearn.metrics import confusion_matrix\n",
    "import itertools\n",
    "import matplotlib.pyplot as plt"
   ]
  },
  {
   "cell_type": "code",
   "execution_count": 100,
   "metadata": {},
   "outputs": [
    {
     "name": "stdout",
     "output_type": "stream",
     "text": [
      "\u001b[1m7/7\u001b[0m \u001b[32m━━━━━━━━━━━━━━━━━━━━\u001b[0m\u001b[37m\u001b[0m \u001b[1m0s\u001b[0m 9ms/step\n"
     ]
    }
   ],
   "source": [
    "y_pred=model.predict(X_test)"
   ]
  },
  {
   "cell_type": "code",
   "execution_count": 105,
   "metadata": {},
   "outputs": [],
   "source": [
    "round_off=np.round(y_pred)"
   ]
  },
  {
   "cell_type": "code",
   "execution_count": 107,
   "metadata": {
    "scrolled": true
   },
   "outputs": [
    {
     "name": "stdout",
     "output_type": "stream",
     "text": [
      "Confusion Matrix\n",
      "[[12  0  0  0  0  0  0  0  0  2]\n",
      " [ 0 10  0  0  1  0  0  0  0  0]\n",
      " [ 1  1  9  2  0  5  0  0  5  3]\n",
      " [ 4  0  0  6  3  0  0  1  2  8]\n",
      " [ 6  0  0  3 12  1  1  0  4  0]\n",
      " [ 0  0  0  0  0 15  0  0  1  0]\n",
      " [ 0  0  0  0  0  0 18  0  0  0]\n",
      " [ 3  0  0  1  0  0  0 17  1  1]\n",
      " [ 2  0  0  0  1  0  0  1 16  1]\n",
      " [ 1  0  1  0  0  0  2  0  0 16]]\n"
     ]
    },
    {
     "data": {
      "image/png": "[encoded data removed]",
      "text/plain": [
       "<Figure size 2000x2000 with 2 Axes>"
      ]
     },
     "metadata": {},
     "output_type": "display_data"
    }
   ],
   "source": [
    "import seaborn as sns\n",
    "from sklearn.metrics import confusion_matrix\n",
    "cm=confusion_matrix(y_test.argmax(axis=1),round_off.argmax(axis=1))\n",
    "print(\"Confusion Matrix\")\n",
    "print(cm)\n",
    "\n",
    "plt.figure(figsize=(20,20))\n",
    "sns.heatmap(cm,annot=True,fmt=\"d\",cmap='Set3')\n",
    "plt.title(\"Confusion Matrix\")\n",
    "plt.ylabel(\"True class\")\n",
    "plt.xlabel(\"Predicted class\")\n",
    "plt.show()"
   ]
  },
  {
   "cell_type": "code",
   "execution_count": null,
   "metadata": {},
   "outputs": [
    {
     "name": "stdout",
     "output_type": "stream",
     "text": [
      "\u001b[1m1/1\u001b[0m \u001b[32m━━━━━━━━━━━━━━━━━━━━\u001b[0m\u001b[37m\u001b[0m \u001b[1m0s\u001b[0m 64ms/step\n",
      "hiphop\n"
     ]
    }
   ],
   "source": [
    "import librosa\n",
    "import numpy as np\n",
    "\n",
    "# Your dictionary mapping genre names to class labels\n",
    "mydict = {'blues': 0, 'classical': 1, 'country': 2, 'disco': 3, 'hiphop': 4, \n",
    "          'jazz': 5, 'metal': 6, 'pop': 7, 'reggae': 8, 'rock': 9}\n",
    "\n",
    "# Path to the audio file\n",
    "audio_file_path = \"E:\\\\Music genre project\\\\Data\\\\genres_original\\\\hiphop\\\\hiphop.00029.wav\"\n",
    "\n",
    "# Load audio data using librosa\n",
    "librosa_audio_data, librosa_sample_rate = librosa.load(audio_file_path)\n",
    "\n",
    "# Extract MFCCs from the audio file\n",
    "mfccs = np.mean(librosa.feature.mfcc(y=librosa_audio_data, sr=librosa_sample_rate, n_mfcc=40).T, axis=0)\n",
    "\n",
    "# Prepare the input data for the model\n",
    "x = []\n",
    "x.append(mfccs)\n",
    "x = np.array(x)\n",
    "\n",
    "# Assuming your model expects the shape (batch_size, 10, 4, 1), reshape accordingly\n",
    "x = np.reshape(x, (x.shape[0], 10, 4, 1))\n",
    "\n",
    "# Get model prediction\n",
    "y_pre = model.predict(x)\n",
    "\n",
    "# Get the index of the maximum value (i.e., predicted genre)\n",
    "predicted_class = np.argmax(y_pre, axis=1)\n",
    "\n",
    "# Convert class index to genre name\n",
    "for genre, classs in mydict.items():\n",
    "    if classs == predicted_class[0]:  # Check if predicted class matches\n",
    "        print(genre)  # Print the predicted genre\n"
   ]
  },
  {
   "cell_type": "code",
   "execution_count": null,
   "metadata": {},
   "outputs": [],
   "source": []
  }
 ],
 "metadata": {
  "kernelspec": {
   "display_name": "myenv",
   "language": "python",
   "name": "python3"
  },
  "language_info": {
   "codemirror_mode": {
    "name": "ipython",
    "version": 3
   },
   "file_extension": ".py",
   "mimetype": "text/x-python",
   "name": "python",
   "nbconvert_exporter": "python",
   "pygments_lexer": "ipython3",
   "version": "3.12.4"
  }
 },
 "nbformat": 4,
 "nbformat_minor": 4
}
